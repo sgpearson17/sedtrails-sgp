{
 "cells": [
  {
   "cell_type": "markdown",
   "id": "aff8dd57",
   "metadata": {},
   "source": [
    "# Enhanced Connectivity Analysis Demo\n",
    "\n",
    "This notebook demonstrates the enhanced connectivity analysis features:\n",
    "- Duplicate source point filtering in polygon generation\n",
    "- Trajectory overlay plotting on clustered polygons\n",
    "- Geographic network visualization\n",
    "\n",
    "Run this after installing the sedtrails package in development mode."
   ]
  },
  {
   "cell_type": "code",
   "execution_count": null,
   "id": "4357a8a9",
   "metadata": {},
   "outputs": [],
   "source": [
    "import numpy as np\n",
    "import matplotlib.pyplot as plt\n",
    "from pathlib import Path\n",
    "import sys\n",
    "\n",
    "# Add src to path for development\n",
    "sys.path.insert(0, str(Path.cwd() / 'src'))\n",
    "\n",
    "from sedtrails.simulation_analysis.connectivity.connectivity_test import ConnectivityTester\n",
    "\n",
    "# Set up paths\n",
    "trajectory_file = Path('sample-data/inlet_sedtrails.nc')\n",
    "output_dir = Path('connectivity_test_results')\n",
    "\n",
    "print(f\"Trajectory file exists: {trajectory_file.exists()}\")\n",
    "print(f\"Output directory: {output_dir}\")"
   ]
  },
  {
   "cell_type": "code",
   "execution_count": null,
   "id": "971a4c24",
   "metadata": {},
   "outputs": [],
   "source": [
    "# Initialize the connectivity tester\n",
    "tester = ConnectivityTester(trajectory_file, output_dir)\n",
    "print(\"Connectivity tester initialized successfully!\")\n",
    "print(f\"Trajectory file: {tester.trajectory_file}\")\n",
    "print(f\"Output directory: {tester.output_dir}\")"
   ]
  },
  {
   "cell_type": "markdown",
   "id": "76a6908d",
   "metadata": {},
   "source": [
    "## Test 1: Enhanced Polygon Generation with Duplicate Filtering\n",
    "\n",
    "Test both Voronoi and clustered polygon generation with the new duplicate source point filtering."
   ]
  },
  {
   "cell_type": "code",
   "execution_count": null,
   "id": "d9e7793e",
   "metadata": {},
   "outputs": [],
   "source": [
    "# Test Voronoi polygons\n",
    "print(\"Testing Voronoi polygon generation...\")\n",
    "voronoi_results = tester.test_polygon_generation(\n",
    "    method='voronoi',\n",
    "    show_plots=True\n",
    ")\n",
    "print(f\"Voronoi polygons: {voronoi_results['n_polygons']} generated\")"
   ]
  },
  {
   "cell_type": "code",
   "execution_count": null,
   "id": "867a2e49",
   "metadata": {},
   "outputs": [],
   "source": [
    "# Test clustered polygons with trajectory overlay\n",
    "print(\"Testing clustered polygon generation with trajectory overlay...\")\n",
    "clustered_results = tester.test_polygon_generation(\n",
    "    method='clustered',\n",
    "    n_clusters=8,\n",
    "    show_plots=True\n",
    ")\n",
    "print(f\"Clustered polygons: {clustered_results['n_polygons']} generated\")\n",
    "print(\"Note: Should see both polygon plot and trajectory overlay plot\")"
   ]
  },
  {
   "cell_type": "markdown",
   "id": "e6c13abe",
   "metadata": {},
   "source": [
    "## Test 2: Adjacency Matrix Compilation and Network Analysis\n",
    "\n",
    "Test adjacency matrix compilation and network analysis with geographic visualization."
   ]
  },
  {
   "cell_type": "code",
   "execution_count": null,
   "id": "f72ee398",
   "metadata": {},
   "outputs": [],
   "source": [
    "# Test adjacency matrix compilation\n",
    "print(\"Testing adjacency matrix compilation...\")\n",
    "adj_results = tester.test_adjacency_compilation(\n",
    "    polygon_file=clustered_results['polygon_file'],\n",
    "    modes=['final', 'all_time'],\n",
    "    show_plots=True\n",
    ")\n",
    "print(f\"Adjacency matrices compiled for {len(adj_results)} modes\")"
   ]
  },
  {
   "cell_type": "code",
   "execution_count": null,
   "id": "964a1b19",
   "metadata": {},
   "outputs": [],
   "source": [
    "# Test network analysis with geographic plotting\n",
    "print(\"Testing network analysis with geographic visualization...\")\n",
    "network_results = tester.test_network_analysis(\n",
    "    adjacency_data=adj_results['final'],\n",
    "    test_name=\"enhanced_network\",\n",
    "    show_plots=True\n",
    ")\n",
    "print(f\"Network: {network_results['n_nodes']} nodes, {network_results['n_edges']} edges\")\n",
    "print(f\"Density: {network_results['density']:.3f}\")\n",
    "print(\"Note: Should see standard network plot, adjacency matrix, and geographic network plot\")"
   ]
  },
  {
   "cell_type": "markdown",
   "id": "2412468f",
   "metadata": {},
   "source": [
    "## Test 3: Full Test Suite\n",
    "\n",
    "Run the complete enhanced test suite."
   ]
  },
  {
   "cell_type": "code",
   "execution_count": null,
   "id": "19259173",
   "metadata": {},
   "outputs": [],
   "source": [
    "# Run full enhanced test suite\n",
    "print(\"Running full enhanced test suite...\")\n",
    "full_results = tester.run_full_test_suite(\n",
    "    polygon_methods=['voronoi', 'clustered'],\n",
    "    adjacency_modes=['final', 'all_time'],\n",
    "    show_plots=True\n",
    ")\n",
    "print(\"\\nFull test suite completed!\")\n",
    "print(f\"Test results: {list(full_results.keys())}\")"
   ]
  },
  {
   "cell_type": "markdown",
   "id": "fd188aed",
   "metadata": {},
   "source": [
    "## Test 4: Verify Enhanced Features\n",
    "\n",
    "Check that the enhanced features are working:"
   ]
  },
  {
   "cell_type": "code",
   "execution_count": null,
   "id": "0daf1295",
   "metadata": {},
   "outputs": [],
   "source": [
    "# Check output files\n",
    "output_files = list(output_dir.glob('**/*'))\n",
    "print(f\"Generated {len(output_files)} output files:\")\n",
    "for f in sorted(output_files):\n",
    "    if f.is_file():\n",
    "        print(f\"  {f.name}\")\n",
    "\n",
    "# Look for trajectory overlay plots\n",
    "trajectory_plots = list(output_dir.glob('*trajectories*.png'))\n",
    "print(f\"\\nTrajectory overlay plots: {len(trajectory_plots)}\")\n",
    "for plot in trajectory_plots:\n",
    "    print(f\"  {plot.name}\")\n",
    "\n",
    "# Look for geographic network plots\n",
    "geographic_plots = list(output_dir.glob('*geographic*.png'))\n",
    "print(f\"\\nGeographic network plots: {len(geographic_plots)}\")\n",
    "for plot in geographic_plots:\n",
    "    print(f\"  {plot.name}\")"
   ]
  },
  {
   "cell_type": "markdown",
   "id": "59a39167",
   "metadata": {},
   "source": [
    "## Summary\n",
    "\n",
    "This demo showcases the enhanced connectivity analysis features:\n",
    "\n",
    "1. **Duplicate Source Point Filtering**: Automatically removes duplicate source points in polygon generation\n",
    "2. **Trajectory Overlay Plotting**: Shows particle trajectories overlaid on clustered polygons\n",
    "3. **Geographic Network Visualization**: Displays network connections in geographic space\n",
    "\n",
    "These enhancements provide better visualization and interpretation of connectivity patterns in sediment transport analysis."
   ]
  }
 ],
 "metadata": {
  "kernelspec": {
   "display_name": ".venv",
   "language": "python",
   "name": "python3"
  },
  "language_info": {
   "name": "python",
   "version": "3.13.7"
  }
 },
 "nbformat": 4,
 "nbformat_minor": 5
}
